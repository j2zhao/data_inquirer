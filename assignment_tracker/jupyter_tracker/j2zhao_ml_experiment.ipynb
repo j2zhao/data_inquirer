{
 "cells": [
  {
   "cell_type": "code",
   "execution_count": 2,
   "metadata": {},
   "outputs": [
    {
     "name": "stdout",
     "output_type": "stream",
     "text": [
      "The jupyter_record extension is already loaded. To reload it, use:\n",
      "  %reload_ext jupyter_record\n"
     ]
    }
   ],
   "source": [
    "%load_ext jupyter_record\n",
    "%set_filename j2zhao_ml_experiment.ipynb\n",
    "# do not change your notebook name\n",
    "# do not touch this cell"
   ]
  },
  {
   "cell_type": "markdown",
   "metadata": {},
   "source": [
    "# Introduction\n",
    "\n",
    "Thank you for helping us out with this data science project! We are researchers from University of Chicago and Technion - Israel Institute of Technology. The goal of this our project is to track the process of how expert data scientists actually reason with data in a machine learning project. \n",
    "\n",
    "In order to do this, we are tracking the code and executions of this notebook.\n",
    "\n",
    "\n",
    "**Important:** We ask you to **NOT** use external machine learning code repositories such as www.github.com and www.kaggle.com in this project. We also ask you not to use machine learning code generation tools such as ChatGPT, Github Copilot, and Google Bard. Note that copy and paste have been disabled on this notebook as a barrier for these tools.\n",
    "\n",
    "These hard requirement is important to our research, and should not impede the completion of this project. You can use additional online resources such as StackOverflow, and code documentation websites (e.g. scikit-learn.org). "
   ]
  },
  {
   "cell_type": "markdown",
   "metadata": {},
   "source": [
    "# Project Problem and Setup"
   ]
  },
  {
   "cell_type": "markdown",
   "metadata": {},
   "source": [
    "In this project, you are given a tabular datasets with flight information from 2018 and 2019. You are ask to predict whether a domestic USA flight will be delayed or not, based on information before the flight departure. We ask that you do not use additional datasets for this problem.\n"
   ]
  },
  {
   "cell_type": "markdown",
   "metadata": {},
   "source": [
    "You will be asked to train a machine learning model on the training dataset. We have already imported most common machine learning libraries for you to use. If there are additional Python libraries that you would like to use, please send a message with UpWorks and we can install it on this machine."
   ]
  },
  {
   "cell_type": "markdown",
   "metadata": {},
   "source": [
    "The data files are as following:\n",
    "\n",
    "training.csv: Seen/training data. Contains raw features and prediction class ('DepDel15').\n",
    "\n",
    "testing_X.csv: Unseen/testing data. Contains only raw features, and no prediction class.\n",
    "\n",
    "readme.html: Information about the features."
   ]
  },
  {
   "cell_type": "code",
   "execution_count": 2,
   "metadata": {},
   "outputs": [],
   "source": [
    "# You can load the datasets using the following functions.\n",
    "\n",
    "# **TODO: FILL OUT**"
   ]
  },
  {
   "cell_type": "markdown",
   "metadata": {},
   "source": [
    "# Data Cleaning and Model Training\n",
    "\n",
    "In this section, you should create a prediction model on the training dataset. We will be evaluating this prediction model on the testing dataset, and expect that you evaluate the model yourself on the training dataset.  \n",
    "\n",
    "\n",
    "We will not directly penalized for low metrics for this task, but prediction metrics will be used in conjunction with other metrics to evaluate if a solid effort was made. For reference, we achieved an accuracy of ~0.80 and AUC score of ~0.60. We expect a model that doesn't simply predict all negatives."
   ]
  },
  {
   "cell_type": "code",
   "execution_count": null,
   "metadata": {},
   "outputs": [],
   "source": [
    "%%javascript\n",
    "IPython.notebook.save_notebook()"
   ]
  },
  {
   "cell_type": "markdown",
   "metadata": {},
   "source": [
    "# Final Evaluation\n",
    "\n",
    "In this section, you should use your prediction model on held out data. For each sample in 'testing_X.csv', generate a binary prediction on whether the flight will be delayed by 15min or more.\n",
    "\n",
    "**Important**: In this notebook, generate a csv file named that is a list of your predictions. It should be named './data/YOUR_NAME_testing_y.csv' file, and contain only one row and columns equal to the sample size. We expect this as a deliverable for this project."
   ]
  },
  {
   "cell_type": "code",
   "execution_count": 2,
   "metadata": {},
   "outputs": [
    {
     "name": "stdout",
     "output_type": "stream",
     "text": [
      "1\n"
     ]
    }
   ],
   "source": [
    "print(7)"
   ]
  },
  {
   "cell_type": "code",
   "execution_count": null,
   "metadata": {},
   "outputs": [],
   "source": []
  }
 ],
 "metadata": {
  "kernelspec": {
   "display_name": "Python 3",
   "language": "python",
   "name": "python3"
  },
  "language_info": {
   "codemirror_mode": {
    "name": "ipython",
    "version": 3
   },
   "file_extension": ".py",
   "mimetype": "text/x-python",
   "name": "python",
   "nbconvert_exporter": "python",
   "pygments_lexer": "ipython3",
   "version": "3.8.2"
  },
  "vscode": {
   "interpreter": {
    "hash": "31f2aee4e71d21fbe5cf8b01ff0e069b9275f58929596ceb00d14d90e3e16cd6"
   }
  }
 },
 "nbformat": 4,
 "nbformat_minor": 4
}
